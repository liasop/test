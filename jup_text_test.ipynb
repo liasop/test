{
 "cells": [
  {
   "cell_type": "markdown",
   "id": "8b7068fc-5243-4d7c-a5ce-1b656c394ef5",
   "metadata": {},
   "source": [
    "# jupytest test\n",
    "some text"
   ]
  },
  {
   "cell_type": "code",
   "execution_count": 3,
   "id": "450df006-9aed-4945-9695-29e32c276216",
   "metadata": {},
   "outputs": [],
   "source": [
    "import numpy as np\n",
    "x = np.arange(0,100,2)"
   ]
  },
  {
   "cell_type": "code",
   "execution_count": 4,
   "id": "c42a01f1",
   "metadata": {},
   "outputs": [],
   "source": [
    "def my_fun(x):\n",
    "    return x*2"
   ]
  },
  {
   "cell_type": "code",
   "execution_count": 6,
   "id": "621fd6d0-e807-4afd-8334-05f5b2655c4c",
   "metadata": {},
   "outputs": [
    {
     "data": {
      "text/plain": [
       "array([  0,   4,   8,  12,  16,  20,  24,  28,  32,  36,  40,  44,  48,\n",
       "        52,  56,  60,  64,  68,  72,  76,  80,  84,  88,  92,  96, 100,\n",
       "       104, 108, 112, 116, 120, 124, 128, 132, 136, 140, 144, 148, 152,\n",
       "       156, 160, 164, 168, 172, 176, 180, 184, 188, 192, 196])"
      ]
     },
     "execution_count": 6,
     "metadata": {},
     "output_type": "execute_result"
    }
   ],
   "source": [
    "y = my_fun(x)\n",
    "y"
   ]
  },
  {
   "cell_type": "code",
<<<<<<< HEAD
   "execution_count": 1,
=======
   "execution_count": 9,
>>>>>>> d42eef5efd4fff38d529195079dae69c9a8e6cae
   "id": "40eb4fb6-c0ff-43c6-ae7d-a8776c3c0896",
   "metadata": {},
   "outputs": [
    {
     "name": "stdout",
     "output_type": "stream",
     "text": [
      "baby\n"
     ]
    }
   ],
   "source": [
    "s = 'samanthas string baby'\n",
    "k = s.split()\n",
    "print(k[2])"
   ]
  },
  {
   "cell_type": "code",
   "execution_count": null,
   "id": "2024fdb5-f6ed-4f84-a1fe-6c43f40f12e3",
   "metadata": {},
   "outputs": [],
   "source": [
    "z = np.arange(9,10)"
   ]
  },
  {
   "cell_type": "code",
   "execution_count": null,
   "id": "93723544-df4c-4122-94d9-ba0802c3837e",
   "metadata": {},
   "outputs": [],
   "source": []
  }
 ],
 "metadata": {
  "jupytext": {
   "formats": "ipynb,py:light,md"
  },
  "kernelspec": {
   "display_name": "Python 3 (ipykernel)",
   "language": "python",
   "name": "python3"
  },
  "language_info": {
   "codemirror_mode": {
    "name": "ipython",
    "version": 3
   },
   "file_extension": ".py",
   "mimetype": "text/x-python",
   "name": "python",
   "nbconvert_exporter": "python",
   "pygments_lexer": "ipython3",
   "version": "3.9.9"
  }
 },
 "nbformat": 4,
 "nbformat_minor": 5
}
