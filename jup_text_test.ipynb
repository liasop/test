{
 "cells": [
  {
   "cell_type": "markdown",
   "id": "8b7068fc-5243-4d7c-a5ce-1b656c394ef5",
   "metadata": {},
   "source": [
    "# jupytest test\n",
    "some text"
   ]
  },
  {
   "cell_type": "code",
   "execution_count": 3,
   "id": "450df006-9aed-4945-9695-29e32c276216",
   "metadata": {
    "lines_to_next_cell": 1
   },
   "outputs": [],
   "source": [
    "import numpy as np\n",
    "x = np.arange(0,100,2)"
   ]
  },
  {
   "cell_type": "code",
   "execution_count": 4,
   "id": "c42a01f1",
   "metadata": {},
   "outputs": [],
   "source": [
    "def my_fun(x):\n",
    "    return x*2"
   ]
  },
  {
   "cell_type": "code",
   "execution_count": null,
   "id": "621fd6d0-e807-4afd-8334-05f5b2655c4c",
   "metadata": {},
   "outputs": [],
   "source": []
  }
 ],
 "metadata": {
  "jupytext": {
   "formats": "ipynb,py:light,md"
  },
  "kernelspec": {
   "display_name": "Python 3 (ipykernel)",
   "language": "python",
   "name": "python3"
  },
  "language_info": {
   "codemirror_mode": {
    "name": "ipython",
    "version": 3
   },
   "file_extension": ".py",
   "mimetype": "text/x-python",
   "name": "python",
   "nbconvert_exporter": "python",
   "pygments_lexer": "ipython3",
   "version": "3.9.9"
  }
 },
 "nbformat": 4,
 "nbformat_minor": 5
}
